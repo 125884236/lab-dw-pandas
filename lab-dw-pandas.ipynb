{
 "cells": [
  {
   "cell_type": "markdown",
   "id": "25d7736c-ba17-4aff-b6bb-66eba20fbf4e",
   "metadata": {},
   "source": [
    "# Lab | Pandas"
   ]
  },
  {
   "cell_type": "markdown",
   "id": "d1973e9e-8be6-4039-b70e-d73ee0d94c99",
   "metadata": {},
   "source": [
    "In this lab, we will be working with the customer data from an insurance company, which can be found in the CSV file located at the following link: https://raw.githubusercontent.com/data-bootcamp-v4/data/main/file1.csv\n",
    "\n",
    "The data includes information such as customer ID, state, gender, education, income, and other variables that can be used to perform various analyses.\n",
    "\n",
    "Throughout the lab, we will be using the pandas library in Python to manipulate and analyze the data. Pandas is a powerful library that provides various data manipulation and analysis tools, including the ability to load and manipulate data from a variety of sources, including CSV files."
   ]
  },
  {
   "cell_type": "markdown",
   "id": "8045146f-f4f7-44d9-8cd9-130d6400c73a",
   "metadata": {},
   "source": [
    "### Data Description\n",
    "\n",
    "- Customer - Customer ID\n",
    "\n",
    "- ST - State where customers live\n",
    "\n",
    "- Gender - Gender of the customer\n",
    "\n",
    "- Education - Background education of customers \n",
    "\n",
    "- Customer Lifetime Value - Customer lifetime value(CLV) is the total revenue the client will derive from their entire relationship with a customer. In other words, is the predicted or calculated value of a customer over their entire duration as a policyholder with the insurance company. It is an estimation of the net profit that the insurance company expects to generate from a customer throughout their relationship with the company. Customer Lifetime Value takes into account factors such as the duration of the customer's policy, premium payments, claim history, renewal likelihood, and potential additional services or products the customer may purchase. It helps insurers assess the long-term profitability and value associated with retaining a particular customer.\n",
    "\n",
    "- Income - Customers income\n",
    "\n",
    "- Monthly Premium Auto - Amount of money the customer pays on a monthly basis as a premium for their auto insurance coverage. It represents the recurring cost that the insured person must pay to maintain their insurance policy and receive coverage for potential damages, accidents, or other covered events related to their vehicle.\n",
    "\n",
    "- Number of Open Complaints - Number of complaints the customer opened\n",
    "\n",
    "- Policy Type - There are three type of policies in car insurance (Corporate Auto, Personal Auto, and Special Auto)\n",
    "\n",
    "- Vehicle Class - Type of vehicle classes that customers have Two-Door Car, Four-Door Car SUV, Luxury SUV, Sports Car, and Luxury Car\n",
    "\n",
    "- Total Claim Amount - the sum of all claims made by the customer. It represents the total monetary value of all approved claims for incidents such as accidents, theft, vandalism, or other covered events.\n"
   ]
  },
  {
   "cell_type": "markdown",
   "id": "3a72419b-20fc-4905-817a-8c83abc59de6",
   "metadata": {},
   "source": [
    "External Resources: https://towardsdatascience.com/filtering-data-frames-in-pandas-b570b1f834b9"
   ]
  },
  {
   "cell_type": "markdown",
   "id": "8f8ece17-e919-4e23-96c0-c7c59778436a",
   "metadata": {},
   "source": [
    "## Challenge 1: Understanding the data\n",
    "\n",
    "In this challenge, you will use pandas to explore a given dataset. Your task is to gain a deep understanding of the data by analyzing its characteristics, dimensions, and statistical properties."
   ]
  },
  {
   "cell_type": "markdown",
   "id": "91437bd5-59a6-49c0-8150-ef0e6e6eb253",
   "metadata": {},
   "source": [
    "- Identify the dimensions of the dataset by determining the number of rows and columns it contains.\n",
    "- Determine the data types of each column and evaluate whether they are appropriate for the nature of the variable. You should also provide suggestions for fixing any incorrect data types.\n",
    "- Identify the number of unique values for each column and determine which columns appear to be categorical. You should also describe the unique values of each categorical column and the range of values for numerical columns, and give your insights.\n",
    "- Compute summary statistics such as mean, median, mode, standard deviation, and quartiles to understand the central tendency and distribution of the data for numerical columns. You should also provide your conclusions based on these summary statistics.\n",
    "- Compute summary statistics for categorical columns and providing your conclusions based on these statistics."
   ]
  },
  {
   "cell_type": "code",
   "execution_count": 3,
   "id": "dd4e8cd8-a6f6-486c-a5c4-1745b0c035f4",
   "metadata": {},
   "outputs": [],
   "source": [
    "import pandas as pd\n",
    "\n",
    "url = \"https://raw.githubusercontent.com/data-bootcamp-v4/data/main/file1.csv\"\n",
    "\n",
    "customer_data_df = pd.read_csv(url)"
   ]
  },
  {
   "cell_type": "code",
   "execution_count": 4,
   "id": "d86f31b8",
   "metadata": {},
   "outputs": [
    {
     "data": {
      "text/plain": [
       "(4008, 11)"
      ]
     },
     "execution_count": 4,
     "metadata": {},
     "output_type": "execute_result"
    }
   ],
   "source": [
    "#número de filas y de columnas en la base de datos\n",
    "\n",
    "customer_data_df.shape"
   ]
  },
  {
   "cell_type": "code",
   "execution_count": 5,
   "id": "49d92050",
   "metadata": {},
   "outputs": [
    {
     "data": {
      "text/html": [
       "<div>\n",
       "<style scoped>\n",
       "    .dataframe tbody tr th:only-of-type {\n",
       "        vertical-align: middle;\n",
       "    }\n",
       "\n",
       "    .dataframe tbody tr th {\n",
       "        vertical-align: top;\n",
       "    }\n",
       "\n",
       "    .dataframe thead th {\n",
       "        text-align: right;\n",
       "    }\n",
       "</style>\n",
       "<table border=\"1\" class=\"dataframe\">\n",
       "  <thead>\n",
       "    <tr style=\"text-align: right;\">\n",
       "      <th></th>\n",
       "      <th>Customer</th>\n",
       "      <th>ST</th>\n",
       "      <th>GENDER</th>\n",
       "      <th>Education</th>\n",
       "      <th>Customer Lifetime Value</th>\n",
       "      <th>Income</th>\n",
       "      <th>Monthly Premium Auto</th>\n",
       "      <th>Number of Open Complaints</th>\n",
       "      <th>Policy Type</th>\n",
       "      <th>Vehicle Class</th>\n",
       "      <th>Total Claim Amount</th>\n",
       "    </tr>\n",
       "  </thead>\n",
       "  <tbody>\n",
       "    <tr>\n",
       "      <th>0</th>\n",
       "      <td>RB50392</td>\n",
       "      <td>Washington</td>\n",
       "      <td>NaN</td>\n",
       "      <td>Master</td>\n",
       "      <td>NaN</td>\n",
       "      <td>0.0</td>\n",
       "      <td>1000.0</td>\n",
       "      <td>1/0/00</td>\n",
       "      <td>Personal Auto</td>\n",
       "      <td>Four-Door Car</td>\n",
       "      <td>2.704934</td>\n",
       "    </tr>\n",
       "    <tr>\n",
       "      <th>1</th>\n",
       "      <td>QZ44356</td>\n",
       "      <td>Arizona</td>\n",
       "      <td>F</td>\n",
       "      <td>Bachelor</td>\n",
       "      <td>697953.59%</td>\n",
       "      <td>0.0</td>\n",
       "      <td>94.0</td>\n",
       "      <td>1/0/00</td>\n",
       "      <td>Personal Auto</td>\n",
       "      <td>Four-Door Car</td>\n",
       "      <td>1131.464935</td>\n",
       "    </tr>\n",
       "    <tr>\n",
       "      <th>2</th>\n",
       "      <td>AI49188</td>\n",
       "      <td>Nevada</td>\n",
       "      <td>F</td>\n",
       "      <td>Bachelor</td>\n",
       "      <td>1288743.17%</td>\n",
       "      <td>48767.0</td>\n",
       "      <td>108.0</td>\n",
       "      <td>1/0/00</td>\n",
       "      <td>Personal Auto</td>\n",
       "      <td>Two-Door Car</td>\n",
       "      <td>566.472247</td>\n",
       "    </tr>\n",
       "    <tr>\n",
       "      <th>3</th>\n",
       "      <td>WW63253</td>\n",
       "      <td>California</td>\n",
       "      <td>M</td>\n",
       "      <td>Bachelor</td>\n",
       "      <td>764586.18%</td>\n",
       "      <td>0.0</td>\n",
       "      <td>106.0</td>\n",
       "      <td>1/0/00</td>\n",
       "      <td>Corporate Auto</td>\n",
       "      <td>SUV</td>\n",
       "      <td>529.881344</td>\n",
       "    </tr>\n",
       "    <tr>\n",
       "      <th>4</th>\n",
       "      <td>GA49547</td>\n",
       "      <td>Washington</td>\n",
       "      <td>M</td>\n",
       "      <td>High School or Below</td>\n",
       "      <td>536307.65%</td>\n",
       "      <td>36357.0</td>\n",
       "      <td>68.0</td>\n",
       "      <td>1/0/00</td>\n",
       "      <td>Personal Auto</td>\n",
       "      <td>Four-Door Car</td>\n",
       "      <td>17.269323</td>\n",
       "    </tr>\n",
       "    <tr>\n",
       "      <th>5</th>\n",
       "      <td>OC83172</td>\n",
       "      <td>Oregon</td>\n",
       "      <td>F</td>\n",
       "      <td>Bachelor</td>\n",
       "      <td>825629.78%</td>\n",
       "      <td>62902.0</td>\n",
       "      <td>69.0</td>\n",
       "      <td>1/0/00</td>\n",
       "      <td>Personal Auto</td>\n",
       "      <td>Two-Door Car</td>\n",
       "      <td>159.383042</td>\n",
       "    </tr>\n",
       "    <tr>\n",
       "      <th>6</th>\n",
       "      <td>XZ87318</td>\n",
       "      <td>Oregon</td>\n",
       "      <td>F</td>\n",
       "      <td>College</td>\n",
       "      <td>538089.86%</td>\n",
       "      <td>55350.0</td>\n",
       "      <td>67.0</td>\n",
       "      <td>1/0/00</td>\n",
       "      <td>Corporate Auto</td>\n",
       "      <td>Four-Door Car</td>\n",
       "      <td>321.600000</td>\n",
       "    </tr>\n",
       "    <tr>\n",
       "      <th>7</th>\n",
       "      <td>CF85061</td>\n",
       "      <td>Arizona</td>\n",
       "      <td>M</td>\n",
       "      <td>Master</td>\n",
       "      <td>721610.03%</td>\n",
       "      <td>0.0</td>\n",
       "      <td>101.0</td>\n",
       "      <td>1/0/00</td>\n",
       "      <td>Corporate Auto</td>\n",
       "      <td>Four-Door Car</td>\n",
       "      <td>363.029680</td>\n",
       "    </tr>\n",
       "    <tr>\n",
       "      <th>8</th>\n",
       "      <td>DY87989</td>\n",
       "      <td>Oregon</td>\n",
       "      <td>M</td>\n",
       "      <td>Bachelor</td>\n",
       "      <td>2412750.40%</td>\n",
       "      <td>14072.0</td>\n",
       "      <td>71.0</td>\n",
       "      <td>1/0/00</td>\n",
       "      <td>Corporate Auto</td>\n",
       "      <td>Four-Door Car</td>\n",
       "      <td>511.200000</td>\n",
       "    </tr>\n",
       "    <tr>\n",
       "      <th>9</th>\n",
       "      <td>BQ94931</td>\n",
       "      <td>Oregon</td>\n",
       "      <td>F</td>\n",
       "      <td>College</td>\n",
       "      <td>738817.81%</td>\n",
       "      <td>28812.0</td>\n",
       "      <td>93.0</td>\n",
       "      <td>1/0/00</td>\n",
       "      <td>Special Auto</td>\n",
       "      <td>Four-Door Car</td>\n",
       "      <td>425.527834</td>\n",
       "    </tr>\n",
       "  </tbody>\n",
       "</table>\n",
       "</div>"
      ],
      "text/plain": [
       "  Customer          ST GENDER             Education Customer Lifetime Value  \\\n",
       "0  RB50392  Washington    NaN                Master                     NaN   \n",
       "1  QZ44356     Arizona      F              Bachelor              697953.59%   \n",
       "2  AI49188      Nevada      F              Bachelor             1288743.17%   \n",
       "3  WW63253  California      M              Bachelor              764586.18%   \n",
       "4  GA49547  Washington      M  High School or Below              536307.65%   \n",
       "5  OC83172      Oregon      F              Bachelor              825629.78%   \n",
       "6  XZ87318      Oregon      F               College              538089.86%   \n",
       "7  CF85061     Arizona      M                Master              721610.03%   \n",
       "8  DY87989      Oregon      M              Bachelor             2412750.40%   \n",
       "9  BQ94931      Oregon      F               College              738817.81%   \n",
       "\n",
       "    Income  Monthly Premium Auto Number of Open Complaints     Policy Type  \\\n",
       "0      0.0                1000.0                    1/0/00   Personal Auto   \n",
       "1      0.0                  94.0                    1/0/00   Personal Auto   \n",
       "2  48767.0                 108.0                    1/0/00   Personal Auto   \n",
       "3      0.0                 106.0                    1/0/00  Corporate Auto   \n",
       "4  36357.0                  68.0                    1/0/00   Personal Auto   \n",
       "5  62902.0                  69.0                    1/0/00   Personal Auto   \n",
       "6  55350.0                  67.0                    1/0/00  Corporate Auto   \n",
       "7      0.0                 101.0                    1/0/00  Corporate Auto   \n",
       "8  14072.0                  71.0                    1/0/00  Corporate Auto   \n",
       "9  28812.0                  93.0                    1/0/00    Special Auto   \n",
       "\n",
       "   Vehicle Class  Total Claim Amount  \n",
       "0  Four-Door Car            2.704934  \n",
       "1  Four-Door Car         1131.464935  \n",
       "2   Two-Door Car          566.472247  \n",
       "3            SUV          529.881344  \n",
       "4  Four-Door Car           17.269323  \n",
       "5   Two-Door Car          159.383042  \n",
       "6  Four-Door Car          321.600000  \n",
       "7  Four-Door Car          363.029680  \n",
       "8  Four-Door Car          511.200000  \n",
       "9  Four-Door Car          425.527834  "
      ]
     },
     "execution_count": 5,
     "metadata": {},
     "output_type": "execute_result"
    }
   ],
   "source": [
    "#revisamos las primeras 10 filas para hacernos a la idea de cómo es el dataframe de un primer vistazo\n",
    "\n",
    "customer_data_df.head(10)"
   ]
  },
  {
   "cell_type": "code",
   "execution_count": 6,
   "id": "d6ab17b3",
   "metadata": {},
   "outputs": [
    {
     "data": {
      "text/plain": [
       "Customer                      object\n",
       "ST                            object\n",
       "GENDER                        object\n",
       "Education                     object\n",
       "Customer Lifetime Value       object\n",
       "Income                       float64\n",
       "Monthly Premium Auto         float64\n",
       "Number of Open Complaints     object\n",
       "Policy Type                   object\n",
       "Vehicle Class                 object\n",
       "Total Claim Amount           float64\n",
       "dtype: object"
      ]
     },
     "execution_count": 6,
     "metadata": {},
     "output_type": "execute_result"
    }
   ],
   "source": [
    "#extrae los tipos de datos definidos por defecto\n",
    "\n",
    "customer_data_df.dtypes"
   ]
  },
  {
   "cell_type": "code",
   "execution_count": 7,
   "id": "f8f63118",
   "metadata": {},
   "outputs": [
    {
     "data": {
      "text/plain": [
       "Customer                     1071\n",
       "ST                              8\n",
       "GENDER                          5\n",
       "Education                       6\n",
       "Customer Lifetime Value      1027\n",
       "Income                        774\n",
       "Monthly Premium Auto          132\n",
       "Number of Open Complaints       6\n",
       "Policy Type                     3\n",
       "Vehicle Class                   6\n",
       "Total Claim Amount            761\n",
       "dtype: int64"
      ]
     },
     "execution_count": 7,
     "metadata": {},
     "output_type": "execute_result"
    }
   ],
   "source": [
    "#extrae los valores únicos por cada valor de dato\n",
    "\n",
    "customer_data_df.nunique()"
   ]
  },
  {
   "cell_type": "code",
   "execution_count": 8,
   "id": "baf44f9f",
   "metadata": {},
   "outputs": [
    {
     "data": {
      "text/plain": [
       "718     1006460.83%\n",
       "459     1011077.82%\n",
       "926     1011544.62%\n",
       "981     1016936.98%\n",
       "1025    1017133.90%\n",
       "           ...     \n",
       "4003            NaN\n",
       "4004            NaN\n",
       "4005            NaN\n",
       "4006            NaN\n",
       "4007            NaN\n",
       "Name: Customer Lifetime Value, Length: 4008, dtype: object"
      ]
     },
     "execution_count": 8,
     "metadata": {},
     "output_type": "execute_result"
    }
   ],
   "source": [
    "#para ver los mínimos datos de esta variable Customer Lifetime Value y ver el rango\n",
    "\n",
    "customer_data_df[\"Customer Lifetime Value\"].sort_values()"
   ]
  },
  {
   "cell_type": "code",
   "execution_count": 9,
   "id": "903b71ae",
   "metadata": {},
   "outputs": [
    {
     "data": {
      "text/plain": [
       "196     995170.77%\n",
       "183     994230.48%\n",
       "750     992704.97%\n",
       "682     988038.58%\n",
       "444     987729.57%\n",
       "           ...    \n",
       "4003           NaN\n",
       "4004           NaN\n",
       "4005           NaN\n",
       "4006           NaN\n",
       "4007           NaN\n",
       "Name: Customer Lifetime Value, Length: 4008, dtype: object"
      ]
     },
     "execution_count": 9,
     "metadata": {},
     "output_type": "execute_result"
    }
   ],
   "source": [
    "#para ver los máximos datos de esta variable Customer Lifetime Value y ver el rango\n",
    "\n",
    "customer_data_df[\"Customer Lifetime Value\"].sort_values(ascending=False)"
   ]
  },
  {
   "cell_type": "code",
   "execution_count": 10,
   "id": "0c08bae1",
   "metadata": {},
   "outputs": [
    {
     "data": {
      "text/plain": [
       "0       1/0/00\n",
       "662     1/0/00\n",
       "664     1/0/00\n",
       "665     1/0/00\n",
       "667     1/0/00\n",
       "         ...  \n",
       "4003       NaN\n",
       "4004       NaN\n",
       "4005       NaN\n",
       "4006       NaN\n",
       "4007       NaN\n",
       "Name: Number of Open Complaints, Length: 4008, dtype: object"
      ]
     },
     "execution_count": 10,
     "metadata": {},
     "output_type": "execute_result"
    }
   ],
   "source": [
    "#para ver los mínimos datos de esta variable Number of Open Complaints y ver el rango\n",
    "\n",
    "\n",
    "customer_data_df[\"Number of Open Complaints\"].sort_values()"
   ]
  },
  {
   "cell_type": "code",
   "execution_count": 11,
   "id": "09c366a8",
   "metadata": {},
   "outputs": [
    {
     "data": {
      "text/plain": [
       "645     1/5/00\n",
       "243     1/5/00\n",
       "899     1/5/00\n",
       "86      1/5/00\n",
       "403     1/5/00\n",
       "         ...  \n",
       "4003       NaN\n",
       "4004       NaN\n",
       "4005       NaN\n",
       "4006       NaN\n",
       "4007       NaN\n",
       "Name: Number of Open Complaints, Length: 4008, dtype: object"
      ]
     },
     "execution_count": 11,
     "metadata": {},
     "output_type": "execute_result"
    }
   ],
   "source": [
    "#para ver los máximos datos de esta variable Number of Open Complaints y ver el rango\n",
    "\n",
    "customer_data_df[\"Number of Open Complaints\"].sort_values(ascending=False)"
   ]
  },
  {
   "cell_type": "code",
   "execution_count": 12,
   "id": "a05b18ea",
   "metadata": {},
   "outputs": [
    {
     "data": {
      "text/html": [
       "<div>\n",
       "<style scoped>\n",
       "    .dataframe tbody tr th:only-of-type {\n",
       "        vertical-align: middle;\n",
       "    }\n",
       "\n",
       "    .dataframe tbody tr th {\n",
       "        vertical-align: top;\n",
       "    }\n",
       "\n",
       "    .dataframe thead th {\n",
       "        text-align: right;\n",
       "    }\n",
       "</style>\n",
       "<table border=\"1\" class=\"dataframe\">\n",
       "  <thead>\n",
       "    <tr style=\"text-align: right;\">\n",
       "      <th></th>\n",
       "      <th>Customer</th>\n",
       "      <th>ST</th>\n",
       "      <th>GENDER</th>\n",
       "      <th>Education</th>\n",
       "      <th>Customer Lifetime Value</th>\n",
       "      <th>Income</th>\n",
       "      <th>Monthly Premium Auto</th>\n",
       "      <th>Number of Open Complaints</th>\n",
       "      <th>Policy Type</th>\n",
       "      <th>Vehicle Class</th>\n",
       "      <th>Total Claim Amount</th>\n",
       "    </tr>\n",
       "  </thead>\n",
       "  <tbody>\n",
       "    <tr>\n",
       "      <th>count</th>\n",
       "      <td>1071</td>\n",
       "      <td>1071</td>\n",
       "      <td>954</td>\n",
       "      <td>1071</td>\n",
       "      <td>1068</td>\n",
       "      <td>1071.000000</td>\n",
       "      <td>1071.000000</td>\n",
       "      <td>1071</td>\n",
       "      <td>1071</td>\n",
       "      <td>1071</td>\n",
       "      <td>1071.000000</td>\n",
       "    </tr>\n",
       "    <tr>\n",
       "      <th>unique</th>\n",
       "      <td>1071</td>\n",
       "      <td>8</td>\n",
       "      <td>5</td>\n",
       "      <td>6</td>\n",
       "      <td>1027</td>\n",
       "      <td>NaN</td>\n",
       "      <td>NaN</td>\n",
       "      <td>6</td>\n",
       "      <td>3</td>\n",
       "      <td>6</td>\n",
       "      <td>NaN</td>\n",
       "    </tr>\n",
       "    <tr>\n",
       "      <th>top</th>\n",
       "      <td>RB50392</td>\n",
       "      <td>Oregon</td>\n",
       "      <td>F</td>\n",
       "      <td>Bachelor</td>\n",
       "      <td>445811.34%</td>\n",
       "      <td>NaN</td>\n",
       "      <td>NaN</td>\n",
       "      <td>1/0/00</td>\n",
       "      <td>Personal Auto</td>\n",
       "      <td>Four-Door Car</td>\n",
       "      <td>NaN</td>\n",
       "    </tr>\n",
       "    <tr>\n",
       "      <th>freq</th>\n",
       "      <td>1</td>\n",
       "      <td>320</td>\n",
       "      <td>457</td>\n",
       "      <td>324</td>\n",
       "      <td>4</td>\n",
       "      <td>NaN</td>\n",
       "      <td>NaN</td>\n",
       "      <td>830</td>\n",
       "      <td>780</td>\n",
       "      <td>576</td>\n",
       "      <td>NaN</td>\n",
       "    </tr>\n",
       "    <tr>\n",
       "      <th>mean</th>\n",
       "      <td>NaN</td>\n",
       "      <td>NaN</td>\n",
       "      <td>NaN</td>\n",
       "      <td>NaN</td>\n",
       "      <td>NaN</td>\n",
       "      <td>39295.701214</td>\n",
       "      <td>193.234360</td>\n",
       "      <td>NaN</td>\n",
       "      <td>NaN</td>\n",
       "      <td>NaN</td>\n",
       "      <td>404.986909</td>\n",
       "    </tr>\n",
       "    <tr>\n",
       "      <th>std</th>\n",
       "      <td>NaN</td>\n",
       "      <td>NaN</td>\n",
       "      <td>NaN</td>\n",
       "      <td>NaN</td>\n",
       "      <td>NaN</td>\n",
       "      <td>30469.427060</td>\n",
       "      <td>1601.190369</td>\n",
       "      <td>NaN</td>\n",
       "      <td>NaN</td>\n",
       "      <td>NaN</td>\n",
       "      <td>293.027260</td>\n",
       "    </tr>\n",
       "    <tr>\n",
       "      <th>min</th>\n",
       "      <td>NaN</td>\n",
       "      <td>NaN</td>\n",
       "      <td>NaN</td>\n",
       "      <td>NaN</td>\n",
       "      <td>NaN</td>\n",
       "      <td>0.000000</td>\n",
       "      <td>61.000000</td>\n",
       "      <td>NaN</td>\n",
       "      <td>NaN</td>\n",
       "      <td>NaN</td>\n",
       "      <td>0.382107</td>\n",
       "    </tr>\n",
       "    <tr>\n",
       "      <th>25%</th>\n",
       "      <td>NaN</td>\n",
       "      <td>NaN</td>\n",
       "      <td>NaN</td>\n",
       "      <td>NaN</td>\n",
       "      <td>NaN</td>\n",
       "      <td>14072.000000</td>\n",
       "      <td>68.000000</td>\n",
       "      <td>NaN</td>\n",
       "      <td>NaN</td>\n",
       "      <td>NaN</td>\n",
       "      <td>202.157702</td>\n",
       "    </tr>\n",
       "    <tr>\n",
       "      <th>50%</th>\n",
       "      <td>NaN</td>\n",
       "      <td>NaN</td>\n",
       "      <td>NaN</td>\n",
       "      <td>NaN</td>\n",
       "      <td>NaN</td>\n",
       "      <td>36234.000000</td>\n",
       "      <td>83.000000</td>\n",
       "      <td>NaN</td>\n",
       "      <td>NaN</td>\n",
       "      <td>NaN</td>\n",
       "      <td>354.729129</td>\n",
       "    </tr>\n",
       "    <tr>\n",
       "      <th>75%</th>\n",
       "      <td>NaN</td>\n",
       "      <td>NaN</td>\n",
       "      <td>NaN</td>\n",
       "      <td>NaN</td>\n",
       "      <td>NaN</td>\n",
       "      <td>64631.000000</td>\n",
       "      <td>109.500000</td>\n",
       "      <td>NaN</td>\n",
       "      <td>NaN</td>\n",
       "      <td>NaN</td>\n",
       "      <td>532.800000</td>\n",
       "    </tr>\n",
       "    <tr>\n",
       "      <th>max</th>\n",
       "      <td>NaN</td>\n",
       "      <td>NaN</td>\n",
       "      <td>NaN</td>\n",
       "      <td>NaN</td>\n",
       "      <td>NaN</td>\n",
       "      <td>99960.000000</td>\n",
       "      <td>35354.000000</td>\n",
       "      <td>NaN</td>\n",
       "      <td>NaN</td>\n",
       "      <td>NaN</td>\n",
       "      <td>2893.239678</td>\n",
       "    </tr>\n",
       "  </tbody>\n",
       "</table>\n",
       "</div>"
      ],
      "text/plain": [
       "       Customer      ST GENDER Education Customer Lifetime Value  \\\n",
       "count      1071    1071    954      1071                    1068   \n",
       "unique     1071       8      5         6                    1027   \n",
       "top     RB50392  Oregon      F  Bachelor              445811.34%   \n",
       "freq          1     320    457       324                       4   \n",
       "mean        NaN     NaN    NaN       NaN                     NaN   \n",
       "std         NaN     NaN    NaN       NaN                     NaN   \n",
       "min         NaN     NaN    NaN       NaN                     NaN   \n",
       "25%         NaN     NaN    NaN       NaN                     NaN   \n",
       "50%         NaN     NaN    NaN       NaN                     NaN   \n",
       "75%         NaN     NaN    NaN       NaN                     NaN   \n",
       "max         NaN     NaN    NaN       NaN                     NaN   \n",
       "\n",
       "              Income  Monthly Premium Auto Number of Open Complaints  \\\n",
       "count    1071.000000           1071.000000                      1071   \n",
       "unique           NaN                   NaN                         6   \n",
       "top              NaN                   NaN                    1/0/00   \n",
       "freq             NaN                   NaN                       830   \n",
       "mean    39295.701214            193.234360                       NaN   \n",
       "std     30469.427060           1601.190369                       NaN   \n",
       "min         0.000000             61.000000                       NaN   \n",
       "25%     14072.000000             68.000000                       NaN   \n",
       "50%     36234.000000             83.000000                       NaN   \n",
       "75%     64631.000000            109.500000                       NaN   \n",
       "max     99960.000000          35354.000000                       NaN   \n",
       "\n",
       "          Policy Type  Vehicle Class  Total Claim Amount  \n",
       "count            1071           1071         1071.000000  \n",
       "unique              3              6                 NaN  \n",
       "top     Personal Auto  Four-Door Car                 NaN  \n",
       "freq              780            576                 NaN  \n",
       "mean              NaN            NaN          404.986909  \n",
       "std               NaN            NaN          293.027260  \n",
       "min               NaN            NaN            0.382107  \n",
       "25%               NaN            NaN          202.157702  \n",
       "50%               NaN            NaN          354.729129  \n",
       "75%               NaN            NaN          532.800000  \n",
       "max               NaN            NaN         2893.239678  "
      ]
     },
     "execution_count": 12,
     "metadata": {},
     "output_type": "execute_result"
    }
   ],
   "source": [
    "#vemos las estadísticas de todas las columnas\n",
    "\n",
    "customer_data_df.describe(include=\"all\")"
   ]
  },
  {
   "cell_type": "code",
   "execution_count": 13,
   "id": "00db836f",
   "metadata": {},
   "outputs": [
    {
     "data": {
      "text/plain": [
       "GENDER\n",
       "F         457\n",
       "M         413\n",
       "Male       39\n",
       "female     28\n",
       "Femal      17\n",
       "Name: count, dtype: int64"
      ]
     },
     "execution_count": 13,
     "metadata": {},
     "output_type": "execute_result"
    }
   ],
   "source": [
    "#analiza los distintos tipos de valores que adquiere la variable GENDER y el número de clientes asociados a cada una.\n",
    "\n",
    "gender_count = customer_data_df.value_counts(\"GENDER\")\n",
    "gender_count"
   ]
  },
  {
   "cell_type": "code",
   "execution_count": 14,
   "id": "abfd2e93",
   "metadata": {},
   "outputs": [
    {
     "data": {
      "text/plain": [
       "ST\n",
       "Oregon        320\n",
       "California    211\n",
       "Arizona       186\n",
       "Cali          120\n",
       "Nevada         98\n",
       "Washington     81\n",
       "WA             30\n",
       "AZ             25\n",
       "Name: count, dtype: int64"
      ]
     },
     "execution_count": 14,
     "metadata": {},
     "output_type": "execute_result"
    }
   ],
   "source": [
    "#analiza los distintos tipos de valores que adquiere la variable ST y el número de clientes asociados a cada una.\n",
    "\n",
    "state = customer_data_df.value_counts(\"ST\")\n",
    "state"
   ]
  },
  {
   "cell_type": "code",
   "execution_count": 15,
   "id": "000b6cb4",
   "metadata": {},
   "outputs": [
    {
     "data": {
      "text/plain": [
       "Education\n",
       "Bachelor                324\n",
       "College                 313\n",
       "High School or Below    296\n",
       "Master                   94\n",
       "Doctor                   37\n",
       "Bachelors                 7\n",
       "Name: count, dtype: int64"
      ]
     },
     "execution_count": 15,
     "metadata": {},
     "output_type": "execute_result"
    }
   ],
   "source": [
    "#analiza los distintos tipos de valores que adquiere la variable Education y el número de clientes asociados a cada una.\n",
    "\n",
    "education_level= customer_data_df.value_counts(\"Education\")\n",
    "education_level"
   ]
  },
  {
   "cell_type": "code",
   "execution_count": 16,
   "id": "b3d14c46",
   "metadata": {},
   "outputs": [
    {
     "data": {
      "text/plain": [
       "Policy Type\n",
       "Personal Auto     780\n",
       "Corporate Auto    234\n",
       "Special Auto       57\n",
       "Name: count, dtype: int64"
      ]
     },
     "execution_count": 16,
     "metadata": {},
     "output_type": "execute_result"
    }
   ],
   "source": [
    "#analiza los distintos tipos de valores que adquiere la variable Policy Type y el número de clientes asociados a cada una.\n",
    "\n",
    "policy = customer_data_df.value_counts(\"Policy Type\")\n",
    "policy"
   ]
  },
  {
   "cell_type": "code",
   "execution_count": 17,
   "id": "1f6d7f16",
   "metadata": {},
   "outputs": [
    {
     "data": {
      "text/plain": [
       "Vehicle Class\n",
       "Four-Door Car    576\n",
       "Two-Door Car     205\n",
       "SUV              199\n",
       "Sports Car        57\n",
       "Luxury SUV        20\n",
       "Luxury Car        14\n",
       "Name: count, dtype: int64"
      ]
     },
     "execution_count": 17,
     "metadata": {},
     "output_type": "execute_result"
    }
   ],
   "source": [
    "#analiza los distintos tipos de valores que adquiere la variable Vehicle Class y el número de clientes asociados a cada una.\n",
    "\n",
    "vehicle = customer_data_df.value_counts(\"Vehicle Class\")\n",
    "vehicle"
   ]
  },
  {
   "cell_type": "code",
   "execution_count": 18,
   "id": "7f3e4faf",
   "metadata": {},
   "outputs": [],
   "source": [
    "#ANÁLISIS VALORES CATEGÓRICOS\n",
    "\n",
    "#son categoricos aquellos valores que tienen un número pequeño de valores únicos: ST, GENDER, Education, Policy type y Vehicle Class.\n",
    "#Number of Open Complaints tiene un número pequeño de valores únicos, sin embargo, como se refiere al número de quejas del usuario, es en realidad un dato numérico discreto."
   ]
  },
  {
   "cell_type": "code",
   "execution_count": 19,
   "id": "715353b3",
   "metadata": {},
   "outputs": [],
   "source": [
    "#ANÁLISIS VALORES NUMÉRICOS\n",
    "\n",
    "#Hay 1071 clientes en total.\n",
    "#Customer Lifetime Value tiene un valor mínimo de 1006460.83% y máximo de 995170.77% y tiene 1027 valores únicos.\n",
    "#Income tiene un valor mínimo de 0 y un valor máximo de 99960 y tiene 774 valores únicos.\n",
    "#Total Claimm Amount tiene un valor mínimo de 0.38 y un valor máximo de 2893.239678 y tiene 761 valores únicos.\n",
    "#Monthly Premium Auto tiene un valor mínimo de 61 y máximo de 35354 y tiene 132 valores únicos..\n",
    "#Number of Open Complaints tiene un valor mínimo de 1 y máximo de 1/5/00, entendiendo que esto significa 5 y tiene 6 valores únicos."
   ]
  },
  {
   "cell_type": "code",
   "execution_count": 20,
   "id": "f8d9cb60",
   "metadata": {},
   "outputs": [],
   "source": [
    "#Customer Lifetime Value es un dato numérico de tipo continuo en lugar de un objeto, ya que se trata de un porcentaje.\n",
    "#Monthly Premium Auto es un dato numérico discreto y no continuo.\n",
    "#Number of Open Complaints es un dato numérico discreto y no un objeto.\n",
    "\n",
    "#Además, creo que sería útil distinguir entre datos numéricos (continuos o discretos) y categóricos (ordinales o nominales) siguiendo el siguiente esquema:"
   ]
  },
  {
   "cell_type": "code",
   "execution_count": 21,
   "id": "7e14ca65",
   "metadata": {},
   "outputs": [],
   "source": [
    "#La división de datos quedaría de la siguiente manera:\n",
    "\n",
    "numerical_continuous_vars = [\"Customer Lifetime Value\", \"Income\", \"Total Claim Amount\"]\n",
    "\n",
    "numerical_discrete_vars = [\"Customer\", \"Monthly Premium Auto\", \"Number of Open Complaints\"]\n",
    "\n",
    "categorical_ordinal_vars = [\"Education\", \"Policy Type\", \"Vehicle Class\"]\n",
    "\n",
    "categorical_nominal_vars = [\"Customer\", \"ST\", \"GENDER\"]"
   ]
  },
  {
   "cell_type": "code",
   "execution_count": 22,
   "id": "44b0afba",
   "metadata": {},
   "outputs": [],
   "source": [
    "#CONCLUSIONES FINALES\n",
    "\n",
    "#Hay 1071 clientes de 8 estados distintos (320 de Oregón, 211 de California, 186 de Arizona + AZ suponiendo que AZ sea lo mismo, 120 de Cali, 98 de Nevada, 81 de Washington + 30 suponiendo que WA sea lo mismo )\n",
    "#Hay algo más de mujeres (502-47%) que de hombres (452-42%) y 11% de sexo desconocido. \n",
    "#La mayor parte tiene un Bachelor (333-31%) o ha ido a la universidad (313-29%) frente a los que han terminado High School (296-28%), un Máster (94-9%), un doctorado (37-3%).\n",
    "#La mayor parte de clientes tienen contratada la políza personal (780-73%), 234 la corporativa (22%) y tan solo un 5% (57) la especial.\n",
    "#54%-576 clientes tienen un coche de 4 puertas, 19%-205 un coche de dos puertas, 19%-199 un SUV, 5%-57 un coche deportivo, 2%-20 un SUV de lujo y 1%-14 un coche de lujo.\n",
    "#El ingreso medio es de 39295 y tanto la desviación estándar como la mediana están muy cerca (30469 y 36234 respectivamente) por lo que la mayor parte de ingresos están en ese rango. No obstante, también los hay de 0 y de 99960.\n",
    "#Monthly premium tiene un rango de amplitud muy alto con un valor mínimo de 61 y máximo de 35354, un desviación estándar de 1601 y una mediana de 83. Por lo que la mayor parte de valores son bajos.\n",
    "#El número de casos abiertos va de 1 a 5 con usuarios que no tienen ninguno abierto.\n",
    "#La cantidad media solicitada es de 404 y el máximo de 2893. La mediana está en 354 y la desviación típica en 293. Por lo que la mayor parte de las cantidades solicitadas son bajas."
   ]
  },
  {
   "cell_type": "markdown",
   "id": "4a703890-63db-4944-b7ab-95a4f8185120",
   "metadata": {},
   "source": [
    "## Challenge 2: analyzing the data"
   ]
  },
  {
   "cell_type": "markdown",
   "id": "0776a403-c56a-452f-ac33-5fd4fdb06fc7",
   "metadata": {},
   "source": [
    "### Exercise 1"
   ]
  },
  {
   "cell_type": "markdown",
   "id": "eedbc484-da4d-4f9c-9343-e1d44311a87e",
   "metadata": {},
   "source": [
    "The marketing team wants to know the top 5 less common customer locations. Create a pandas Series object that contains the customer locations and their frequencies, and then retrieve the top 5 less common locations in ascending order."
   ]
  },
  {
   "cell_type": "code",
   "execution_count": 23,
   "id": "cd50fd70",
   "metadata": {},
   "outputs": [],
   "source": [
    "#creamos la variable de los datos que queremos agrupar\n",
    "\n",
    "values_to_combine = {\n",
    "    \"Cali\": \"California\",\n",
    "    \"WA\": \"Washington\",\n",
    "    \"AZ\": \"Arizona\"\n",
    "}"
   ]
  },
  {
   "cell_type": "code",
   "execution_count": 24,
   "id": "4f60b0a0",
   "metadata": {},
   "outputs": [],
   "source": [
    "#usamos la función replace() para reemplazar los datos antiguos por los nuevos\n",
    "\n",
    "customer_data_df[\"ST\"] = customer_data_df[\"ST\"].replace(values_to_combine)\n"
   ]
  },
  {
   "cell_type": "code",
   "execution_count": 25,
   "id": "2dca5073-4520-4f42-9390-4b92733284ed",
   "metadata": {},
   "outputs": [
    {
     "data": {
      "text/plain": [
       "ST\n",
       "California    331\n",
       "Oregon        320\n",
       "Arizona       211\n",
       "Washington    111\n",
       "Nevada         98\n",
       "Name: count, dtype: int64"
      ]
     },
     "execution_count": 25,
     "metadata": {},
     "output_type": "execute_result"
    }
   ],
   "source": [
    "#revisamos la ubbicaciones y su frecuencia y vemos que hay valores duplicados\n",
    "\n",
    "state = customer_data_df.value_counts(\"ST\")\n",
    "state"
   ]
  },
  {
   "cell_type": "code",
   "execution_count": 26,
   "id": "f0deb5c8",
   "metadata": {},
   "outputs": [
    {
     "data": {
      "text/plain": [
       "ST\n",
       "California    331\n",
       "Oregon        320\n",
       "Arizona       211\n",
       "Washington    111\n",
       "Nevada         98\n",
       "Name: count, dtype: int64"
      ]
     },
     "execution_count": 26,
     "metadata": {},
     "output_type": "execute_result"
    }
   ],
   "source": [
    "#comprobamos que solo hay 5 ubicaciones y que la más común es California\n",
    "state.iloc[-5:]"
   ]
  },
  {
   "cell_type": "markdown",
   "id": "0ce80f43-4afa-43c7-a78a-c917444da4e0",
   "metadata": {},
   "source": [
    "### Exercise 2\n",
    "\n",
    "The sales team wants to know the total number of policies sold for each type of policy. Create a pandas Series object that contains the policy types and their total number of policies sold, and then retrieve the policy type with the highest number of policies sold."
   ]
  },
  {
   "cell_type": "markdown",
   "id": "a9f13997-1555-4f98-aca6-970fda1d2c3f",
   "metadata": {},
   "source": [
    "*Hint:*\n",
    "- *Using value_counts() method simplifies this analysis.*\n",
    "- *Futhermore, there is a method that returns the index of the maximum value in a column or row.*\n"
   ]
  },
  {
   "cell_type": "code",
   "execution_count": 39,
   "id": "bcfad6c1-9af2-4b0b-9aa9-0dc5c17473c0",
   "metadata": {},
   "outputs": [
    {
     "name": "stdout",
     "output_type": "stream",
     "text": [
      "The highest policy type is:  Personal Auto\n"
     ]
    }
   ],
   "source": [
    "#utilizamos el método value_counts para sumar los diferentes tupos de pólizas contratadas.\n",
    "#con el método idxmax() vemos que el tipo de póliza más contratada es la personal.\n",
    "\n",
    "policy = customer_data_df.value_counts(\"Policy Type\")\n",
    "\n",
    "highest_policy_type = policy.idxmax()\n",
    "\n",
    "print(\"The highest policy type is: \", highest_policy_type)\n"
   ]
  },
  {
   "cell_type": "markdown",
   "id": "0b863fd3-bf91-4d5d-86eb-be29ed9f5b70",
   "metadata": {},
   "source": [
    "### Exercise 3\n",
    "\n",
    "The sales team wants to know if customers with Personal Auto have a lower income than those with Corporate Auto. How does the average income compare between the two policy types?"
   ]
  },
  {
   "cell_type": "markdown",
   "id": "b1386d75-2810-4aa1-93e0-9485aa12d552",
   "metadata": {},
   "source": [
    "- Use *loc* to create two dataframes: one containing only Personal Auto policies and one containing only Corporate Auto policies.\n",
    "- Calculate the average income for each policy.\n",
    "- Print the results."
   ]
  },
  {
   "cell_type": "code",
   "execution_count": 33,
   "id": "0c0563cf-6f8b-463d-a321-651a972f82e5",
   "metadata": {},
   "outputs": [
    {
     "name": "stdout",
     "output_type": "stream",
     "text": [
      "Los que han contratado la póliza personal tienen unos ingresos de media de:  38180.7\n"
     ]
    }
   ],
   "source": [
    "#creo un dataframe conteniendo solo las polizas personales y aplico la función decribe para ver la media de ingresos de los que contratan este tipo de póliza\n",
    "#veo que la media es 38180 \n",
    "personal_auto_policy = customer_data_df.loc[customer_data_df[\"Policy Type\"] == \"Personal Auto\"] \n",
    "personal_auto_policy.describe()\n",
    "\n",
    "average_personal_auto_policy = round(personal_auto_policy['Income'].mean(), 2)\n",
    "\n",
    "average_personal_auto_policy\n",
    "\n",
    "print(\"Los que han contratado la póliza personal tienen unos ingresos de media de: \", average_personal_auto_policy)\n"
   ]
  },
  {
   "cell_type": "code",
   "execution_count": 35,
   "id": "e235a6ce",
   "metadata": {},
   "outputs": [
    {
     "name": "stdout",
     "output_type": "stream",
     "text": [
      "Los que han contratado la póliza corporativa tienen unos ingresos de media de:  41390.31\n"
     ]
    }
   ],
   "source": [
    "#creo un dataframe conteniendo solo las polizas corporativas y aplico la función decribe para ver la media de ingresos de los que contratan este tipo de póliza\n",
    "#veo que la media es 41390 \n",
    "corporate_auto_policy = customer_data_df.loc[customer_data_df[\"Policy Type\"] == \"Corporate Auto\"] \n",
    "corporate_auto_policy.describe()\n",
    "\n",
    "average_corporate_auto_policy = round(corporate_auto_policy[\"Income\"].mean(), 2)\n",
    "\n",
    "average_corporate_auto_policy\n",
    "\n",
    "print(\"Los que han contratado la póliza corporativa tienen unos ingresos de media de: \", average_corporate_auto_policy)\n"
   ]
  },
  {
   "cell_type": "markdown",
   "id": "80b16c27-f4a5-4727-a229-1f88671cf4e2",
   "metadata": {},
   "source": [
    "### Bonus: Exercise 4\n"
   ]
  },
  {
   "cell_type": "markdown",
   "id": "ac584986-299b-475f-ac2e-928c16c3f512",
   "metadata": {},
   "source": [
    "Your goal is to identify customers with a high policy claim amount.\n",
    "\n",
    "Instructions:\n",
    "\n",
    "- Review again the statistics for total claim amount to gain an understanding of the data.\n",
    "- To identify potential areas for improving customer retention and profitability, we want to focus on customers with a high policy claim amount. Consider customers with a high policy claim amount to be those in the top 25% of the total claim amount. Create a pandas DataFrame object that contains information about customers with a policy claim amount greater than the 75th percentile.\n",
    "- Use DataFrame methods to calculate summary statistics about the high policy claim amount data. "
   ]
  },
  {
   "cell_type": "markdown",
   "id": "4e3af5f1-6023-4b05-9c01-d05392daa650",
   "metadata": {},
   "source": [
    "*Note: When analyzing data, we often want to focus on certain groups of values to gain insights. Percentiles are a useful tool to help us define these groups. A percentile is a measure that tells us what percentage of values in a dataset are below a certain value. For example, the 75th percentile represents the value below which 75% of the data falls. Similarly, the 25th percentile represents the value below which 25% of the data falls. When we talk about the top 25%, we are referring to the values that fall above the 75th percentile, which represent the top quarter of the data. On the other hand, when we talk about the bottom 25%, we are referring to the values that fall below the 25th percentile, which represent the bottom quarter of the data. By focusing on these groups, we can identify patterns and trends that may be useful for making decisions and taking action.*\n",
    "\n",
    "*Hint: look for a method that gives you the percentile or quantile 0.75 and 0.25 for a Pandas Series.*"
   ]
  },
  {
   "cell_type": "markdown",
   "id": "2d234634-50bd-41e0-88f7-d5ba684455d1",
   "metadata": {},
   "source": [
    "*Hint 2: check `Boolean selection according to the values of a single column` in https://towardsdatascience.com/filtering-data-frames-in-pandas-b570b1f834b9*"
   ]
  },
  {
   "cell_type": "code",
   "execution_count": null,
   "id": "b731bca6-a760-4860-a27b-a33efa712ce0",
   "metadata": {},
   "outputs": [],
   "source": [
    "#Mira las estadísticas para el total de cantidades reclamadas y customer lifetume valie\n",
    "\n",
    "print(\"Total Claim Amount Stats: \")"
   ]
  },
  {
   "cell_type": "code",
   "execution_count": null,
   "id": "8a3cea45",
   "metadata": {},
   "outputs": [],
   "source": [
    "#define threshold values for high claim amount and low customer lifetime value\n",
    "\n",
    "high_claim_amount = df[\"total_claim_amount\"].quantile(0.75)\n",
    "\n",
    "#filter the data to identify customers with high claim amount\n",
    "\n",
    "df_high = df[(df[\"total_claim_amount\"] > high_claim_amount)]\n",
    "\n",
    "#calculate summary for the filtered data\n",
    "\n",
    "print(\"n\\Summaru Statistics for High Claim Amount and Low Income Customers:\")\n",
    "print(df_high[\"Total \"])"
   ]
  }
 ],
 "metadata": {
  "kernelspec": {
   "display_name": "Python 3 (ipykernel)",
   "language": "python",
   "name": "python3"
  },
  "language_info": {
   "codemirror_mode": {
    "name": "ipython",
    "version": 3
   },
   "file_extension": ".py",
   "mimetype": "text/x-python",
   "name": "python",
   "nbconvert_exporter": "python",
   "pygments_lexer": "ipython3",
   "version": "3.11.5"
  }
 },
 "nbformat": 4,
 "nbformat_minor": 5
}
