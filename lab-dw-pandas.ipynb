{
 "cells": [
  {
   "cell_type": "markdown",
   "id": "25d7736c-ba17-4aff-b6bb-66eba20fbf4e",
   "metadata": {},
   "source": [
    "# Lab | Pandas"
   ]
  },
  {
   "cell_type": "markdown",
   "id": "d1973e9e-8be6-4039-b70e-d73ee0d94c99",
   "metadata": {},
   "source": [
    "In this lab, we will be working with the customer data from an insurance company, which can be found in the CSV file located at the following link: https://raw.githubusercontent.com/data-bootcamp-v4/data/main/file1.csv\n",
    "\n",
    "The data includes information such as customer ID, state, gender, education, income, and other variables that can be used to perform various analyses.\n",
    "\n",
    "Throughout the lab, we will be using the pandas library in Python to manipulate and analyze the data. Pandas is a powerful library that provides various data manipulation and analysis tools, including the ability to load and manipulate data from a variety of sources, including CSV files."
   ]
  },
  {
   "cell_type": "markdown",
   "id": "8045146f-f4f7-44d9-8cd9-130d6400c73a",
   "metadata": {},
   "source": [
    "### Data Description\n",
    "\n",
    "- Customer - Customer ID\n",
    "\n",
    "- ST - State where customers live\n",
    "\n",
    "- Gender - Gender of the customer\n",
    "\n",
    "- Education - Background education of customers \n",
    "\n",
    "- Customer Lifetime Value - Customer lifetime value(CLV) is the total revenue the client will derive from their entire relationship with a customer. In other words, is the predicted or calculated value of a customer over their entire duration as a policyholder with the insurance company. It is an estimation of the net profit that the insurance company expects to generate from a customer throughout their relationship with the company. Customer Lifetime Value takes into account factors such as the duration of the customer's policy, premium payments, claim history, renewal likelihood, and potential additional services or products the customer may purchase. It helps insurers assess the long-term profitability and value associated with retaining a particular customer.\n",
    "\n",
    "- Income - Customers income\n",
    "\n",
    "- Monthly Premium Auto - Amount of money the customer pays on a monthly basis as a premium for their auto insurance coverage. It represents the recurring cost that the insured person must pay to maintain their insurance policy and receive coverage for potential damages, accidents, or other covered events related to their vehicle.\n",
    "\n",
    "- Number of Open Complaints - Number of complaints the customer opened\n",
    "\n",
    "- Policy Type - There are three type of policies in car insurance (Corporate Auto, Personal Auto, and Special Auto)\n",
    "\n",
    "- Vehicle Class - Type of vehicle classes that customers have Two-Door Car, Four-Door Car SUV, Luxury SUV, Sports Car, and Luxury Car\n",
    "\n",
    "- Total Claim Amount - the sum of all claims made by the customer. It represents the total monetary value of all approved claims for incidents such as accidents, theft, vandalism, or other covered events.\n"
   ]
  },
  {
   "cell_type": "markdown",
   "id": "3a72419b-20fc-4905-817a-8c83abc59de6",
   "metadata": {},
   "source": [
    "External Resources: https://towardsdatascience.com/filtering-data-frames-in-pandas-b570b1f834b9"
   ]
  },
  {
   "cell_type": "markdown",
   "id": "8f8ece17-e919-4e23-96c0-c7c59778436a",
   "metadata": {},
   "source": [
    "## Challenge 1: Understanding the data\n",
    "\n",
    "In this challenge, you will use pandas to explore a given dataset. Your task is to gain a deep understanding of the data by analyzing its characteristics, dimensions, and statistical properties."
   ]
  },
  {
   "cell_type": "markdown",
   "id": "91437bd5-59a6-49c0-8150-ef0e6e6eb253",
   "metadata": {},
   "source": [
    "- Identify the dimensions of the dataset by determining the number of rows and columns it contains.\n",
    "- Determine the data types of each column and evaluate whether they are appropriate for the nature of the variable. You should also provide suggestions for fixing any incorrect data types.\n",
    "- Identify the number of unique values for each column and determine which columns appear to be categorical. You should also describe the unique values of each categorical column and the range of values for numerical columns, and give your insights.\n",
    "- Compute summary statistics such as mean, median, mode, standard deviation, and quartiles to understand the central tendency and distribution of the data for numerical columns. You should also provide your conclusions based on these summary statistics.\n",
    "- Compute summary statistics for categorical columns and providing your conclusions based on these statistics."
   ]
  },
  {
   "cell_type": "code",
   "execution_count": null,
   "id": "dd4e8cd8-a6f6-486c-a5c4-1745b0c035f4",
   "metadata": {},
   "outputs": [],
   "source": [
    "import pandas as pd\n",
    "\n",
    "url = \"https://raw.githubusercontent.com/data-bootcamp-v4/data/main/file1.csv\"\n",
    "\n",
    "customer_data_df = pd.read_csv(url)"
   ]
  },
  {
   "cell_type": "code",
   "execution_count": null,
   "id": "d86f31b8",
   "metadata": {},
   "outputs": [],
   "source": [
    "#número de filas y de columnas en la base de datos\n",
    "\n",
    "customer_data_df.shape"
   ]
  },
  {
   "cell_type": "code",
   "execution_count": null,
   "id": "49d92050",
   "metadata": {},
   "outputs": [],
   "source": [
    "#revisamos las primeras 10 filas para hacernos a la idea de cómo es el dataframe de un primer vistazo\n",
    "\n",
    "customer_data_df.head(10)"
   ]
  },
  {
   "cell_type": "code",
   "execution_count": null,
   "id": "d6ab17b3",
   "metadata": {},
   "outputs": [],
   "source": [
    "#extrae los tipos de datos definidos por defecto\n",
    "\n",
    "customer_data_df.dtypes"
   ]
  },
  {
   "cell_type": "code",
   "execution_count": null,
   "id": "f8f63118",
   "metadata": {},
   "outputs": [],
   "source": [
    "#extrae los valores únicos por cada valor de dato\n",
    "\n",
    "customer_data_df.nunique()"
   ]
  },
  {
   "cell_type": "code",
   "execution_count": null,
   "id": "baf44f9f",
   "metadata": {},
   "outputs": [],
   "source": [
    "#para ver los mínimos datos de esta variable Customer Lifetime Value y ver el rango\n",
    "\n",
    "customer_data_df[\"Customer Lifetime Value\"].sort_values()"
   ]
  },
  {
   "cell_type": "code",
   "execution_count": null,
   "id": "903b71ae",
   "metadata": {},
   "outputs": [],
   "source": [
    "#para ver los máximos datos de esta variable Customer Lifetime Value y ver el rango\n",
    "\n",
    "customer_data_df[\"Customer Lifetime Value\"].sort_values(ascending=False)"
   ]
  },
  {
   "cell_type": "code",
   "execution_count": null,
   "id": "0c08bae1",
   "metadata": {},
   "outputs": [],
   "source": [
    "#para ver los mínimos datos de esta variable Number of Open Complaints y ver el rango\n",
    "\n",
    "\n",
    "customer_data_df[\"Number of Open Complaints\"].sort_values()"
   ]
  },
  {
   "cell_type": "code",
   "execution_count": null,
   "id": "09c366a8",
   "metadata": {},
   "outputs": [],
   "source": [
    "#para ver los máximos datos de esta variable Number of Open Complaints y ver el rango\n",
    "\n",
    "customer_data_df[\"Number of Open Complaints\"].sort_values(ascending=False)"
   ]
  },
  {
   "cell_type": "code",
   "execution_count": null,
   "id": "a05b18ea",
   "metadata": {},
   "outputs": [],
   "source": [
    "#vemos las estadísticas de todas las columnas\n",
    "\n",
    "customer_data_df.describe(include=\"all\")"
   ]
  },
  {
   "cell_type": "code",
   "execution_count": null,
   "id": "00db836f",
   "metadata": {},
   "outputs": [],
   "source": [
    "#analiza los distintos tipos de valores que adquiere la variable GENDER y el número de clientes asociados a cada una.\n",
    "\n",
    "gender_count = customer_data_df.value_counts(\"GENDER\")\n",
    "gender_count"
   ]
  },
  {
   "cell_type": "code",
   "execution_count": null,
   "id": "abfd2e93",
   "metadata": {},
   "outputs": [],
   "source": [
    "#analiza los distintos tipos de valores que adquiere la variable ST y el número de clientes asociados a cada una.\n",
    "\n",
    "state = customer_data_df.value_counts(\"ST\")\n",
    "state"
   ]
  },
  {
   "cell_type": "code",
   "execution_count": null,
   "id": "000b6cb4",
   "metadata": {},
   "outputs": [],
   "source": [
    "#analiza los distintos tipos de valores que adquiere la variable Education y el número de clientes asociados a cada una.\n",
    "\n",
    "education_level= customer_data_df.value_counts(\"Education\")\n",
    "education_level"
   ]
  },
  {
   "cell_type": "code",
   "execution_count": null,
   "id": "b3d14c46",
   "metadata": {},
   "outputs": [],
   "source": [
    "#analiza los distintos tipos de valores que adquiere la variable Policy Type y el número de clientes asociados a cada una.\n",
    "\n",
    "policy = customer_data_df.value_counts(\"Policy Type\")\n",
    "policy"
   ]
  },
  {
   "cell_type": "code",
   "execution_count": null,
   "id": "1f6d7f16",
   "metadata": {},
   "outputs": [],
   "source": [
    "#analiza los distintos tipos de valores que adquiere la variable Vehicle Class y el número de clientes asociados a cada una.\n",
    "\n",
    "vehicle = customer_data_df.value_counts(\"Vehicle Class\")\n",
    "vehicle"
   ]
  },
  {
   "cell_type": "code",
   "execution_count": null,
   "id": "7f3e4faf",
   "metadata": {},
   "outputs": [],
   "source": [
    "#ANÁLISIS VALORES CATEGÓRICOS\n",
    "\n",
    "#son categoricos aquellos valores que tienen un número pequeño de valores únicos: ST, GENDER, Education, Policy type y Vehicle Class.\n",
    "#Number of Open Complaints tiene un número pequeño de valores únicos, sin embargo, como se refiere al número de quejas del usuario, es en realidad un dato numérico discreto."
   ]
  },
  {
   "cell_type": "code",
   "execution_count": null,
   "id": "715353b3",
   "metadata": {},
   "outputs": [],
   "source": [
    "#ANÁLISIS VALORES NUMÉRICOS\n",
    "\n",
    "#Hay 1071 clientes en total.\n",
    "#Customer Lifetime Value tiene un valor mínimo de 1006460.83% y máximo de 995170.77% y tiene 1027 valores únicos.\n",
    "#Income tiene un valor mínimo de 0 y un valor máximo de 99960 y tiene 774 valores únicos.\n",
    "#Total Claimm Amount tiene un valor mínimo de 0.38 y un valor máximo de 2893.239678 y tiene 761 valores únicos.\n",
    "#Monthly Premium Auto tiene un valor mínimo de 61 y máximo de 35354 y tiene 132 valores únicos..\n",
    "#Number of Open Complaints tiene un valor mínimo de 1 y máximo de 1/5/00, entendiendo que esto significa 5 y tiene 6 valores únicos."
   ]
  },
  {
   "cell_type": "code",
   "execution_count": null,
   "id": "f8d9cb60",
   "metadata": {},
   "outputs": [],
   "source": [
    "#Customer Lifetime Value es un dato numérico de tipo continuo en lugar de un objeto, ya que se trata de un porcentaje.\n",
    "#Monthly Premium Auto es un dato numérico discreto y no continuo.\n",
    "#Number of Open Complaints es un dato numérico discreto y no un objeto.\n",
    "\n",
    "#Además, creo que sería útil distinguir entre datos numéricos (continuos o discretos) y categóricos (ordinales o nominales) siguiendo el siguiente esquema:"
   ]
  },
  {
   "cell_type": "code",
   "execution_count": null,
   "id": "7e14ca65",
   "metadata": {},
   "outputs": [],
   "source": [
    "#La división de datos quedaría de la siguiente manera:\n",
    "\n",
    "numerical_continuous_vars = [\"Customer Lifetime Value\", \"Income\", \"Total Claim Amount\"]\n",
    "\n",
    "numerical_discrete_vars = [\"Customer\", \"Monthly Premium Auto\", \"Number of Open Complaints\"]\n",
    "\n",
    "categorical_ordinal_vars = [\"Education\", \"Policy Type\", \"Vehicle Class\"]\n",
    "\n",
    "categorical_nominal_vars = [\"Customer\", \"ST\", \"GENDER\"]"
   ]
  },
  {
   "cell_type": "code",
   "execution_count": null,
   "id": "44b0afba",
   "metadata": {},
   "outputs": [],
   "source": [
    "#CONCLUSIONES FINALES\n",
    "\n",
    "#Hay 1071 clientes de 8 estados distintos (320 de Oregón, 211 de California, 186 de Arizona + AZ suponiendo que AZ sea lo mismo, 120 de Cali, 98 de Nevada, 81 de Washington + 30 suponiendo que WA sea lo mismo )\n",
    "#Hay algo más de mujeres (502-47%) que de hombres (452-42%) y 11% de sexo desconocido. \n",
    "#La mayor parte tiene un Bachelor (333-31%) o ha ido a la universidad (313-29%) frente a los que han terminado High School (296-28%), un Máster (94-9%), un doctorado (37-3%).\n",
    "#La mayor parte de clientes tienen contratada la políza personal (780-73%), 234 la corporativa (22%) y tan solo un 5% (57) la especial.\n",
    "#54%-576 clientes tienen un coche de 4 puertas, 19%-205 un coche de dos puertas, 19%-199 un SUV, 5%-57 un coche deportivo, 2%-20 un SUV de lujo y 1%-14 un coche de lujo.\n",
    "#El ingreso medio es de 39295 y tanto la desviación estándar como la mediana están muy cerca (30469 y 36234 respectivamente) por lo que la mayor parte de ingresos están en ese rango. No obstante, también los hay de 0 y de 99960.\n",
    "#Monthly premium tiene un rango de amplitud muy alto con un valor mínimo de 61 y máximo de 35354, un desviación estándar de 1601 y una mediana de 83. Por lo que la mayor parte de valores son bajos.\n",
    "#El número de casos abiertos va de 1 a 5 con usuarios que no tienen ninguno abierto.\n",
    "#La cantidad media solicitada es de 404 y el máximo de 2893. La mediana está en 354 y la desviación típica en 293. Por lo que la mayor parte de las cantidades solicitadas son bajas."
   ]
  },
  {
   "cell_type": "markdown",
   "id": "4a703890-63db-4944-b7ab-95a4f8185120",
   "metadata": {},
   "source": [
    "## Challenge 2: analyzing the data"
   ]
  },
  {
   "cell_type": "markdown",
   "id": "0776a403-c56a-452f-ac33-5fd4fdb06fc7",
   "metadata": {},
   "source": [
    "### Exercise 1"
   ]
  },
  {
   "cell_type": "markdown",
   "id": "eedbc484-da4d-4f9c-9343-e1d44311a87e",
   "metadata": {},
   "source": [
    "The marketing team wants to know the top 5 less common customer locations. Create a pandas Series object that contains the customer locations and their frequencies, and then retrieve the top 5 less common locations in ascending order."
   ]
  },
  {
   "cell_type": "code",
   "execution_count": null,
   "id": "cd50fd70",
   "metadata": {},
   "outputs": [],
   "source": [
    "#creamos la variable de los datos que queremos agrupar\n",
    "\n",
    "values_to_combine = {\n",
    "    \"Cali\": \"California\",\n",
    "    \"WA\": \"Washington\",\n",
    "    \"AZ\": \"Arizona\"\n",
    "}"
   ]
  },
  {
   "cell_type": "code",
   "execution_count": null,
   "id": "4f60b0a0",
   "metadata": {},
   "outputs": [],
   "source": [
    "#usamos la función replace() para reemplazar los datos antiguos por los nuevos\n",
    "\n",
    "\n"
   ]
  },
  {
   "cell_type": "code",
   "execution_count": null,
   "id": "2dca5073-4520-4f42-9390-4b92733284ed",
   "metadata": {},
   "outputs": [],
   "source": [
    "#revisamos la ubbicaciones y su frecuencia y vemos que hay valores duplicados\n",
    "\n",
    "state = customer_data_df.value_counts(\"ST\")\n",
    "state"
   ]
  },
  {
   "cell_type": "code",
   "execution_count": null,
   "id": "f0deb5c8",
   "metadata": {},
   "outputs": [],
   "source": [
    "#comprobamos que solo hay 5 ubicaciones y que la más común es California\n",
    "state.iloc[-5:]"
   ]
  },
  {
   "cell_type": "markdown",
   "id": "0ce80f43-4afa-43c7-a78a-c917444da4e0",
   "metadata": {},
   "source": [
    "### Exercise 2\n",
    "\n",
    "The sales team wants to know the total number of policies sold for each type of policy. Create a pandas Series object that contains the policy types and their total number of policies sold, and then retrieve the policy type with the highest number of policies sold."
   ]
  },
  {
   "cell_type": "markdown",
   "id": "a9f13997-1555-4f98-aca6-970fda1d2c3f",
   "metadata": {},
   "source": [
    "*Hint:*\n",
    "- *Using value_counts() method simplifies this analysis.*\n",
    "- *Futhermore, there is a method that returns the index of the maximum value in a column or row.*\n"
   ]
  },
  {
   "cell_type": "code",
   "execution_count": null,
   "id": "bcfad6c1-9af2-4b0b-9aa9-0dc5c17473c0",
   "metadata": {},
   "outputs": [],
   "source": [
    "#utilizamos el método value_counts para sumar los diferentes tupos de pólizas contratadas.\n",
    "#con el método idxmax() vemos que el tipo de póliza más contratada es la personal.\n",
    "\n",
    "policy = customer_data_df.value_counts(\"Policy Type\")\n",
    "\n",
    "highest_policy_type = policy.idxmax()\n",
    "\n",
    "print(\"The highest policy type is: \", highest_policy_type)\n"
   ]
  },
  {
   "cell_type": "markdown",
   "id": "0b863fd3-bf91-4d5d-86eb-be29ed9f5b70",
   "metadata": {},
   "source": [
    "### Exercise 3\n",
    "\n",
    "The sales team wants to know if customers with Personal Auto have a lower income than those with Corporate Auto. How does the average income compare between the two policy types?"
   ]
  },
  {
   "cell_type": "markdown",
   "id": "b1386d75-2810-4aa1-93e0-9485aa12d552",
   "metadata": {},
   "source": [
    "- Use *loc* to create two dataframes: one containing only Personal Auto policies and one containing only Corporate Auto policies.\n",
    "- Calculate the average income for each policy.\n",
    "- Print the results."
   ]
  },
  {
   "cell_type": "code",
   "execution_count": null,
   "id": "0c0563cf-6f8b-463d-a321-651a972f82e5",
   "metadata": {},
   "outputs": [],
   "source": [
    "#creo un dataframe conteniendo solo las polizas personales y aplico la función decribe para ver la media de ingresos de los que contratan este tipo de póliza\n",
    "#veo que la media es 38180 \n",
    "personal_auto_policy = customer_data_df.loc[customer_data_df[\"Policy Type\"] == \"Personal Auto\"] \n",
    "personal_auto_policy.describe()\n",
    "\n",
    "average_personal_auto_policy = round(personal_auto_policy['Income'].mean(), 2)\n",
    "\n",
    "average_personal_auto_policy\n",
    "\n",
    "print(\"Los que han contratado la póliza personal tienen unos ingresos de media de: \", average_personal_auto_policy)\n"
   ]
  },
  {
   "cell_type": "code",
   "execution_count": null,
   "id": "e235a6ce",
   "metadata": {},
   "outputs": [],
   "source": [
    "#creo un dataframe conteniendo solo las polizas corporativas y aplico la función decribe para ver la media de ingresos de los que contratan este tipo de póliza\n",
    "#veo que la media es 41390 \n",
    "corporate_auto_policy = customer_data_df.loc[customer_data_df[\"Policy Type\"] == \"Corporate Auto\"] \n",
    "corporate_auto_policy.describe()\n",
    "\n",
    "average_corporate_auto_policy = round(corporate_auto_policy[\"Income\"].mean(), 2)\n",
    "\n",
    "average_corporate_auto_policy\n",
    "\n",
    "print(\"Los que han contratado la póliza corporativa tienen unos ingresos de media de: \", average_corporate_auto_policy)\n"
   ]
  },
  {
   "cell_type": "markdown",
   "id": "80b16c27-f4a5-4727-a229-1f88671cf4e2",
   "metadata": {},
   "source": [
    "### Bonus: Exercise 4\n"
   ]
  },
  {
   "cell_type": "markdown",
   "id": "ac584986-299b-475f-ac2e-928c16c3f512",
   "metadata": {},
   "source": [
    "Your goal is to identify customers with a high policy claim amount.\n",
    "\n",
    "Instructions:\n",
    "\n",
    "- Review again the statistics for total claim amount to gain an understanding of the data.\n",
    "- To identify potential areas for improving customer retention and profitability, we want to focus on customers with a high policy claim amount. Consider customers with a high policy claim amount to be those in the top 25% of the total claim amount. Create a pandas DataFrame object that contains information about customers with a policy claim amount greater than the 75th percentile.\n",
    "- Use DataFrame methods to calculate summary statistics about the high policy claim amount data. "
   ]
  },
  {
   "cell_type": "markdown",
   "id": "4e3af5f1-6023-4b05-9c01-d05392daa650",
   "metadata": {},
   "source": [
    "*Note: When analyzing data, we often want to focus on certain groups of values to gain insights. Percentiles are a useful tool to help us define these groups. A percentile is a measure that tells us what percentage of values in a dataset are below a certain value. For example, the 75th percentile represents the value below which 75% of the data falls. Similarly, the 25th percentile represents the value below which 25% of the data falls. When we talk about the top 25%, we are referring to the values that fall above the 75th percentile, which represent the top quarter of the data. On the other hand, when we talk about the bottom 25%, we are referring to the values that fall below the 25th percentile, which represent the bottom quarter of the data. By focusing on these groups, we can identify patterns and trends that may be useful for making decisions and taking action.*\n",
    "\n",
    "*Hint: look for a method that gives you the percentile or quantile 0.75 and 0.25 for a Pandas Series.*"
   ]
  },
  {
   "cell_type": "markdown",
   "id": "2d234634-50bd-41e0-88f7-d5ba684455d1",
   "metadata": {},
   "source": [
    "*Hint 2: check `Boolean selection according to the values of a single column` in https://towardsdatascience.com/filtering-data-frames-in-pandas-b570b1f834b9*"
   ]
  },
  {
   "cell_type": "code",
   "execution_count": null,
   "id": "b731bca6-a760-4860-a27b-a33efa712ce0",
   "metadata": {},
   "outputs": [],
   "source": [
    "#Mira las estadísticas para el total de cantidades reclamadas y customer lifetime value\n",
    "\n",
    "print(\"Total Claim Amount Stats:\\n\", customer_data_df[\"Total Claim Amount\"].describe())\n",
    "print(\"\\nIncome Stats:\\n\", customer_data_df[\"Income\"].describe())"
   ]
  },
  {
   "cell_type": "code",
   "execution_count": null,
   "id": "77b0082c",
   "metadata": {},
   "outputs": [],
   "source": [
    "df[\"total_claim_amount\"].quantile(0.75)"
   ]
  },
  {
   "cell_type": "code",
   "execution_count": null,
   "id": "8a3cea45",
   "metadata": {},
   "outputs": [],
   "source": [
    "# Define valores límite por arriba para claim amount y por debajo para customer lifetime value\n",
    "high_claim_amount = customer_data_df[\"Total Claim Amount\"].quantile(0.75)\n",
    "\n",
    "# Filtra los datos para identificar los clientes con altas claim amount \n",
    "df_high = customer_data_df[(customer_data_df[\"Total Claim Amount\"] > high_claim_amount)]\n",
    "\n",
    "# Resumen de estadísticas para los datos filtrados\n",
    "print(\"\\nSummary Statistics for High Claim Amount and Low Income Customers:\")\n",
    "print(df_high[[\"Total Claim Amount\"]].describe())"
   ]
  },
  {
   "cell_type": "code",
   "execution_count": null,
   "id": "efff794a",
   "metadata": {},
   "outputs": [],
   "source": [
    "df.describe()"
   ]
  }
 ],
 "metadata": {
  "kernelspec": {
   "display_name": "Python 3 (ipykernel)",
   "language": "python",
   "name": "python3"
  },
  "language_info": {
   "codemirror_mode": {
    "name": "ipython",
    "version": 3
   },
   "file_extension": ".py",
   "mimetype": "text/x-python",
   "name": "python",
   "nbconvert_exporter": "python",
   "pygments_lexer": "ipython3",
   "version": "3.11.5"
  }
 },
 "nbformat": 4,
 "nbformat_minor": 5
}
